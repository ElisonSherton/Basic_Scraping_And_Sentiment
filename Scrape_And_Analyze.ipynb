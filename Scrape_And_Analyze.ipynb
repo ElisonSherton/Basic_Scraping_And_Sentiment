{
 "cells": [
  {
   "cell_type": "markdown",
   "metadata": {},
   "source": [
    "# Text Classification"
   ]
  },
  {
   "cell_type": "markdown",
   "metadata": {},
   "source": [
    "Harrison Kinsley has a Youtube channel by the name sentdex and he makes videos about python spanning across ML, AI, basic python, openCV, basic game programming etc. Gauge the popularity of his videos based on Machine Learning from this ML playlist:  https://www.youtube.com/playlist?list=PLQVvvaa0QuDfKTOs3Keq_kaG2P55YRn5v based on the Like to Dislike Ratio of the videos contained in this playlist"
   ]
  },
  {
   "cell_type": "code",
   "execution_count": 1,
   "metadata": {},
   "outputs": [],
   "source": [
    "import requests\n",
    "import re\n",
    "import pandas as pd\n",
    "import numpy as np\n",
    "import matplotlib.pyplot as plt\n",
    "from bs4 import BeautifulSoup\n",
    "import seaborn as sns\n",
    "import nltk\n",
    "%matplotlib inline"
   ]
  },
  {
   "cell_type": "code",
   "execution_count": 2,
   "metadata": {},
   "outputs": [
    {
     "name": "stdout",
     "output_type": "stream",
     "text": [
      "340486\n"
     ]
    }
   ],
   "source": [
    "URL = \"https://www.youtube.com/playlist?list=PLQVvvaa0QuDfKTOs3Keq_kaG2P55YRn5v\"\n",
    "r = requests.get(URL)\n",
    "print(len(r.text))"
   ]
  },
  {
   "cell_type": "code",
   "execution_count": 3,
   "metadata": {},
   "outputs": [
    {
     "name": "stdout",
     "output_type": "stream",
     "text": [
      "Machine Learning with Python - YouTube\n"
     ]
    }
   ],
   "source": [
    "s = BeautifulSoup(r.text)\n",
    "print(s.title.string)"
   ]
  },
  {
   "cell_type": "markdown",
   "metadata": {},
   "source": [
    "Scrape the parent page of playlists. Since every youtube link has a **watch** substring contained in it and also **index** substring to avoid duplication. Use this information and extract all those links from this parent page."
   ]
  },
  {
   "cell_type": "code",
   "execution_count": 4,
   "metadata": {},
   "outputs": [],
   "source": [
    "parent = \"https://youtube.com\"\n",
    "all_video_links = []\n",
    "title = []\n",
    "for link in s.find_all('a'):\n",
    "    #if \"Practical Machine Learning \" in link.text:\n",
    "    child = link.get('href')\n",
    "    l = link.text.strip()\n",
    "    try:\n",
    "        if (\"watch\" in child) and (\"index\" in child):\n",
    "            all_video_links.append(parent + child)\n",
    "            title.append(l)\n",
    "    except:\n",
    "        pass"
   ]
  },
  {
   "cell_type": "code",
   "execution_count": 5,
   "metadata": {},
   "outputs": [
    {
     "data": {
      "text/plain": [
       "72"
      ]
     },
     "execution_count": 5,
     "metadata": {},
     "output_type": "execute_result"
    }
   ],
   "source": [
    "while True:\n",
    "    if \"\" in title:\n",
    "        title.remove(\"\")\n",
    "    elif \"Play all\" in title:\n",
    "        title.remove(\"Play all\")\n",
    "        title.remove(\"► Play all\")\n",
    "    else:\n",
    "        break\n",
    "len(title)"
   ]
  },
  {
   "cell_type": "code",
   "execution_count": 6,
   "metadata": {},
   "outputs": [],
   "source": [
    "all_video_links = list(set(all_video_links))\n",
    "for i in all_video_links:\n",
    "    x = re.findall(r'.*index=(\\d\\d?).*', i)\n",
    "    \n",
    "all_video_links = sorted(all_video_links, key = lambda x: int(re.findall(r'.*index=(\\d\\d?).*', x)[0]) if len(re.findall(r'.*index=(\\d\\d?).*', x))>0 else 0)"
   ]
  },
  {
   "cell_type": "markdown",
   "metadata": {},
   "source": [
    "Scrape individual links obtained in the list all_video_links above and extract likes and dislikes from those pages. From the source code it can be seen that the stats we need i.e. likes and dislikes are contained in the <button>button</button> tag and in it, the attribute <button>aria-label</button> contains that text. Hence extract this information from these tags respectively using regular expressions and bs4 & string fucntions."
   ]
  },
  {
   "cell_type": "markdown",
   "metadata": {},
   "source": [
    "<img src = \"button_aria_label.png\" w = 800 h = 200> "
   ]
  },
  {
   "cell_type": "code",
   "execution_count": 7,
   "metadata": {},
   "outputs": [],
   "source": [
    "summary = []\n",
    "for j in range(0,len(all_video_links)):\n",
    "    dislikes = 0\n",
    "    likes = 0\n",
    "    ri = requests.get(all_video_links[j])\n",
    "    si = BeautifulSoup(ri.text)\n",
    "    for i in si.find_all('button'):\n",
    "        m = i.get('aria-label')\n",
    "        try:\n",
    "            if (isinstance(m, str)):\n",
    "                if ('dislike' in m):\n",
    "                    dislikes = re.findall(r'\\d*,?\\d+?', m)\n",
    "                elif ('like' in m):\n",
    "                    likes = re.findall(r'\\d*,?\\d+?', m)\n",
    "        except:\n",
    "            pass\n",
    "    summary.append([all_video_links[j], title[j], likes, dislikes])"
   ]
  },
  {
   "cell_type": "code",
   "execution_count": 8,
   "metadata": {},
   "outputs": [
    {
     "data": {
      "text/plain": [
       "[['https://youtube.com/watch?v=OGxgnH8y2NM&list=PLQVvvaa0QuDfKTOs3Keq_kaG2P55YRn5v&index=2&t=0s',\n",
       "  'Practical Machine Learning Tutorial with Python Intro p.1',\n",
       "  ['14,6', '82'],\n",
       "  ['199']],\n",
       " ['https://youtube.com/watch?v=JcI5Vnw0b2c&list=PLQVvvaa0QuDfKTOs3Keq_kaG2P55YRn5v&index=3&t=0s',\n",
       "  'Regression Intro - Practical Machine Learning Tutorial with Python p.2',\n",
       "  ['6,3', '47'],\n",
       "  ['137']]]"
      ]
     },
     "execution_count": 8,
     "metadata": {},
     "output_type": "execute_result"
    }
   ],
   "source": [
    "summary[:2]"
   ]
  },
  {
   "cell_type": "markdown",
   "metadata": {},
   "source": [
    "Create a dataframe from the list of summary above and get the stats of \"Like\" and \"Dislike\" in integer formats by using regular expressions. "
   ]
  },
  {
   "cell_type": "code",
   "execution_count": 9,
   "metadata": {},
   "outputs": [],
   "source": [
    "sum1 = pd.DataFrame(summary, columns = ['Link', 'Title', 'Likes', 'Dislikes'])"
   ]
  },
  {
   "cell_type": "code",
   "execution_count": 10,
   "metadata": {},
   "outputs": [],
   "source": [
    "sum1.Likes = sum1.Likes.apply(lambda x: ''.join(x))\n",
    "sum1.Dislikes = sum1.Dislikes.apply(lambda x: ''.join(x))"
   ]
  },
  {
   "cell_type": "code",
   "execution_count": 11,
   "metadata": {},
   "outputs": [],
   "source": [
    "sum1.Likes = sum1.Likes.apply(lambda x: int(re.sub(',', '', x)))\n",
    "sum1.Dislikes = sum1.Dislikes.apply(lambda x:int(re.sub(',', '', x)))"
   ]
  },
  {
   "cell_type": "code",
   "execution_count": 12,
   "metadata": {},
   "outputs": [],
   "source": [
    "sum1['LDRatio'] = sum1.Likes/sum1.Dislikes"
   ]
  },
  {
   "cell_type": "code",
   "execution_count": 13,
   "metadata": {},
   "outputs": [
    {
     "data": {
      "text/html": [
       "<div>\n",
       "<style scoped>\n",
       "    .dataframe tbody tr th:only-of-type {\n",
       "        vertical-align: middle;\n",
       "    }\n",
       "\n",
       "    .dataframe tbody tr th {\n",
       "        vertical-align: top;\n",
       "    }\n",
       "\n",
       "    .dataframe thead th {\n",
       "        text-align: right;\n",
       "    }\n",
       "</style>\n",
       "<table border=\"1\" class=\"dataframe\">\n",
       "  <thead>\n",
       "    <tr style=\"text-align: right;\">\n",
       "      <th></th>\n",
       "      <th>Likes</th>\n",
       "      <th>Dislikes</th>\n",
       "      <th>LDRatio</th>\n",
       "    </tr>\n",
       "  </thead>\n",
       "  <tbody>\n",
       "    <tr>\n",
       "      <td>count</td>\n",
       "      <td>72.000000</td>\n",
       "      <td>72.000000</td>\n",
       "      <td>72.000000</td>\n",
       "    </tr>\n",
       "    <tr>\n",
       "      <td>mean</td>\n",
       "      <td>979.027778</td>\n",
       "      <td>24.277778</td>\n",
       "      <td>46.384521</td>\n",
       "    </tr>\n",
       "    <tr>\n",
       "      <td>std</td>\n",
       "      <td>1896.700122</td>\n",
       "      <td>33.799001</td>\n",
       "      <td>21.117856</td>\n",
       "    </tr>\n",
       "    <tr>\n",
       "      <td>min</td>\n",
       "      <td>154.000000</td>\n",
       "      <td>3.000000</td>\n",
       "      <td>10.139535</td>\n",
       "    </tr>\n",
       "    <tr>\n",
       "      <td>25%</td>\n",
       "      <td>338.750000</td>\n",
       "      <td>7.000000</td>\n",
       "      <td>31.307692</td>\n",
       "    </tr>\n",
       "    <tr>\n",
       "      <td>50%</td>\n",
       "      <td>505.500000</td>\n",
       "      <td>12.000000</td>\n",
       "      <td>45.872727</td>\n",
       "    </tr>\n",
       "    <tr>\n",
       "      <td>75%</td>\n",
       "      <td>754.750000</td>\n",
       "      <td>23.500000</td>\n",
       "      <td>59.625000</td>\n",
       "    </tr>\n",
       "    <tr>\n",
       "      <td>max</td>\n",
       "      <td>14682.000000</td>\n",
       "      <td>199.000000</td>\n",
       "      <td>105.000000</td>\n",
       "    </tr>\n",
       "  </tbody>\n",
       "</table>\n",
       "</div>"
      ],
      "text/plain": [
       "              Likes    Dislikes     LDRatio\n",
       "count     72.000000   72.000000   72.000000\n",
       "mean     979.027778   24.277778   46.384521\n",
       "std     1896.700122   33.799001   21.117856\n",
       "min      154.000000    3.000000   10.139535\n",
       "25%      338.750000    7.000000   31.307692\n",
       "50%      505.500000   12.000000   45.872727\n",
       "75%      754.750000   23.500000   59.625000\n",
       "max    14682.000000  199.000000  105.000000"
      ]
     },
     "execution_count": 13,
     "metadata": {},
     "output_type": "execute_result"
    }
   ],
   "source": [
    "sum1.describe()"
   ]
  },
  {
   "cell_type": "code",
   "execution_count": 14,
   "metadata": {},
   "outputs": [
    {
     "data": {
      "text/plain": [
       "45.872727272727275"
      ]
     },
     "execution_count": 14,
     "metadata": {},
     "output_type": "execute_result"
    }
   ],
   "source": [
    "q2 = sum1.describe().iloc[5,2]\n",
    "q2"
   ]
  },
  {
   "cell_type": "markdown",
   "metadata": {},
   "source": [
    "Let's consider those videos which have a Like to Dislike ratio of less than the first quartile value to be bad videos or not upto the mark videos. Let us assign them a value of 0 and let us assign those ones which have LDRatio of more than the median to be 1. "
   ]
  },
  {
   "cell_type": "code",
   "execution_count": 15,
   "metadata": {},
   "outputs": [],
   "source": [
    "x = []\n",
    "for i in sum1.LDRatio:\n",
    "    if i > q2:\n",
    "        x.append(1)\n",
    "    else:\n",
    "        x.append(0)\n",
    "sum1['Target'] = x"
   ]
  },
  {
   "cell_type": "code",
   "execution_count": 16,
   "metadata": {},
   "outputs": [
    {
     "data": {
      "text/html": [
       "<div>\n",
       "<style scoped>\n",
       "    .dataframe tbody tr th:only-of-type {\n",
       "        vertical-align: middle;\n",
       "    }\n",
       "\n",
       "    .dataframe tbody tr th {\n",
       "        vertical-align: top;\n",
       "    }\n",
       "\n",
       "    .dataframe thead th {\n",
       "        text-align: right;\n",
       "    }\n",
       "</style>\n",
       "<table border=\"1\" class=\"dataframe\">\n",
       "  <thead>\n",
       "    <tr style=\"text-align: right;\">\n",
       "      <th></th>\n",
       "      <th>Link</th>\n",
       "      <th>Title</th>\n",
       "      <th>Likes</th>\n",
       "      <th>Dislikes</th>\n",
       "      <th>LDRatio</th>\n",
       "      <th>Target</th>\n",
       "    </tr>\n",
       "  </thead>\n",
       "  <tbody>\n",
       "    <tr>\n",
       "      <td>0</td>\n",
       "      <td>https://youtube.com/watch?v=OGxgnH8y2NM&amp;list=P...</td>\n",
       "      <td>Practical Machine Learning Tutorial with Pytho...</td>\n",
       "      <td>14682</td>\n",
       "      <td>199</td>\n",
       "      <td>73.778894</td>\n",
       "      <td>1</td>\n",
       "    </tr>\n",
       "    <tr>\n",
       "      <td>1</td>\n",
       "      <td>https://youtube.com/watch?v=JcI5Vnw0b2c&amp;list=P...</td>\n",
       "      <td>Regression Intro - Practical Machine Learning ...</td>\n",
       "      <td>6347</td>\n",
       "      <td>137</td>\n",
       "      <td>46.328467</td>\n",
       "      <td>1</td>\n",
       "    </tr>\n",
       "    <tr>\n",
       "      <td>2</td>\n",
       "      <td>https://youtube.com/watch?v=lN5jesocJjk&amp;list=P...</td>\n",
       "      <td>Regression Features and Labels - Practical Mac...</td>\n",
       "      <td>2900</td>\n",
       "      <td>116</td>\n",
       "      <td>25.000000</td>\n",
       "      <td>0</td>\n",
       "    </tr>\n",
       "    <tr>\n",
       "      <td>3</td>\n",
       "      <td>https://youtube.com/watch?v=r4mwkS2T9aI&amp;list=P...</td>\n",
       "      <td>Regression Training and Testing - Practical Ma...</td>\n",
       "      <td>2196</td>\n",
       "      <td>78</td>\n",
       "      <td>28.153846</td>\n",
       "      <td>0</td>\n",
       "    </tr>\n",
       "    <tr>\n",
       "      <td>4</td>\n",
       "      <td>https://youtube.com/watch?v=QLVMqwpOLPk&amp;list=P...</td>\n",
       "      <td>Regression forecasting and predicting - Practi...</td>\n",
       "      <td>1419</td>\n",
       "      <td>86</td>\n",
       "      <td>16.500000</td>\n",
       "      <td>0</td>\n",
       "    </tr>\n",
       "  </tbody>\n",
       "</table>\n",
       "</div>"
      ],
      "text/plain": [
       "                                                Link  \\\n",
       "0  https://youtube.com/watch?v=OGxgnH8y2NM&list=P...   \n",
       "1  https://youtube.com/watch?v=JcI5Vnw0b2c&list=P...   \n",
       "2  https://youtube.com/watch?v=lN5jesocJjk&list=P...   \n",
       "3  https://youtube.com/watch?v=r4mwkS2T9aI&list=P...   \n",
       "4  https://youtube.com/watch?v=QLVMqwpOLPk&list=P...   \n",
       "\n",
       "                                               Title  Likes  Dislikes  \\\n",
       "0  Practical Machine Learning Tutorial with Pytho...  14682       199   \n",
       "1  Regression Intro - Practical Machine Learning ...   6347       137   \n",
       "2  Regression Features and Labels - Practical Mac...   2900       116   \n",
       "3  Regression Training and Testing - Practical Ma...   2196        78   \n",
       "4  Regression forecasting and predicting - Practi...   1419        86   \n",
       "\n",
       "     LDRatio  Target  \n",
       "0  73.778894       1  \n",
       "1  46.328467       1  \n",
       "2  25.000000       0  \n",
       "3  28.153846       0  \n",
       "4  16.500000       0  "
      ]
     },
     "execution_count": 16,
     "metadata": {},
     "output_type": "execute_result"
    }
   ],
   "source": [
    "sum1.head()"
   ]
  },
  {
   "cell_type": "markdown",
   "metadata": {},
   "source": [
    "# Bag of Words"
   ]
  },
  {
   "cell_type": "code",
   "execution_count": 17,
   "metadata": {},
   "outputs": [],
   "source": [
    "from nltk.tokenize import word_tokenize\n",
    "text = list(sum1.Title.str.lower())\n",
    "docs = []\n",
    "for i in text:\n",
    "    docs.append(word_tokenize(i))"
   ]
  },
  {
   "cell_type": "code",
   "execution_count": 18,
   "metadata": {},
   "outputs": [
    {
     "name": "stdout",
     "output_type": "stream",
     "text": [
      "[['practical', 'machine', 'learning', 'tutorial', 'with', 'python', 'intro', 'p.1'], ['regression', 'intro', '-', 'practical', 'machine', 'learning', 'tutorial', 'with', 'python', 'p.2'], ['regression', 'features', 'and', 'labels', '-', 'practical', 'machine', 'learning', 'tutorial', 'with', 'python', 'p.3'], ['regression', 'training', 'and', 'testing', '-', 'practical', 'machine', 'learning', 'tutorial', 'with', 'python', 'p.4'], ['regression', 'forecasting', 'and', 'predicting', '-', 'practical', 'machine', 'learning', 'tutorial', 'with', 'python', 'p.5']]\n"
     ]
    }
   ],
   "source": [
    "print(docs[:5])"
   ]
  },
  {
   "cell_type": "markdown",
   "metadata": {},
   "source": [
    "# Stemming"
   ]
  },
  {
   "cell_type": "code",
   "execution_count": 19,
   "metadata": {},
   "outputs": [
    {
     "name": "stdout",
     "output_type": "stream",
     "text": [
      "[['practic', 'machin', 'learn', 'tutori', 'with', 'python', 'intro', 'p.1'], ['regress', 'intro', '-', 'practic', 'machin', 'learn', 'tutori', 'with', 'python', 'p.2'], ['regress', 'featur', 'and', 'label', '-', 'practic', 'machin', 'learn', 'tutori', 'with', 'python', 'p.3'], ['regress', 'train', 'and', 'test', '-', 'practic', 'machin', 'learn', 'tutori', 'with', 'python', 'p.4'], ['regress', 'forecast', 'and', 'predict', '-', 'practic', 'machin', 'learn', 'tutori', 'with', 'python', 'p.5']]\n"
     ]
    }
   ],
   "source": [
    "from nltk.stem import PorterStemmer\n",
    "\n",
    "PS = PorterStemmer()\n",
    "stemmed_doc = []\n",
    "for doc in docs:\n",
    "    d = []\n",
    "    for i in doc:\n",
    "        d.append(PS.stem(i))\n",
    "    stemmed_doc.append(d)\n",
    "print(stemmed_doc[:5])"
   ]
  },
  {
   "cell_type": "markdown",
   "metadata": {},
   "source": [
    "# Stopword Figuring and removal"
   ]
  },
  {
   "cell_type": "code",
   "execution_count": 20,
   "metadata": {},
   "outputs": [],
   "source": [
    "from nltk.corpus import stopwords\n",
    "SW = set(stopwords.words(\"english\"))"
   ]
  },
  {
   "cell_type": "code",
   "execution_count": 21,
   "metadata": {},
   "outputs": [],
   "source": [
    "sentences = []\n",
    "for i in stemmed_doc:\n",
    "    sentences.append(\" \".join(i))\n",
    "all_text = \"\"\n",
    "for j in sentences:\n",
    "    all_text = all_text + j + \" \"\n",
    "all_text = re.sub(r'[\\.\\(\\-\\)/\\d\\']', '', all_text)"
   ]
  },
  {
   "cell_type": "code",
   "execution_count": 22,
   "metadata": {},
   "outputs": [],
   "source": [
    "from nltk.probability import FreqDist\n",
    "fdist=FreqDist(word_tokenize(all_text.strip()))"
   ]
  },
  {
   "cell_type": "code",
   "execution_count": 23,
   "metadata": {},
   "outputs": [
    {
     "data": {
      "text/plain": [
       "[('with', 63), ('p', 58)]"
      ]
     },
     "execution_count": 23,
     "metadata": {},
     "output_type": "execute_result"
    }
   ],
   "source": [
    "fdist.most_common(2)"
   ]
  },
  {
   "cell_type": "code",
   "execution_count": 24,
   "metadata": {},
   "outputs": [
    {
     "data": {
      "image/png": "[encoded data removed]",
      "text/plain": [
       "<Figure size 1080x216 with 1 Axes>"
      ]
     },
     "metadata": {
      "needs_background": "light"
     },
     "output_type": "display_data"
    }
   ],
   "source": [
    "from matplotlib import rcParams\n",
    "rcParams['figure.figsize'] = 15,3\n",
    "fdist.plot(50)\n",
    "plt.show()"
   ]
  },
  {
   "cell_type": "markdown",
   "metadata": {},
   "source": [
    "We can see that the words python, practic, machin, learn, p and with occur more than 40 times. Therefore, let's include these in our list of stop words as well."
   ]
  },
  {
   "cell_type": "code",
   "execution_count": 25,
   "metadata": {},
   "outputs": [],
   "source": [
    "SW = SW.union(set(['with', 'p', 'learn', 'machin', 'practic', 'python']))"
   ]
  },
  {
   "cell_type": "code",
   "execution_count": 26,
   "metadata": {},
   "outputs": [],
   "source": [
    "processed_docs = []\n",
    "for i in stemmed_doc:\n",
    "    j = word_tokenize(re.sub(r'[\\.\\(\\-\\)/\\d\\']', '', \" \".join(i)))\n",
    "    new_doc = []\n",
    "    for k in j:\n",
    "        if not(k in SW):\n",
    "            new_doc.append(k)\n",
    "    processed_docs.append(new_doc)            "
   ]
  },
  {
   "cell_type": "code",
   "execution_count": 27,
   "metadata": {},
   "outputs": [
    {
     "data": {
      "text/plain": [
       "['tutori intro',\n",
       " 'regress intro tutori',\n",
       " 'regress featur label tutori',\n",
       " 'regress train test tutori',\n",
       " 'regress forecast predict tutori']"
      ]
     },
     "execution_count": 27,
     "metadata": {},
     "output_type": "execute_result"
    }
   ],
   "source": [
    "final_processed_docs = []\n",
    "for i in processed_docs:\n",
    "    final_processed_docs.append(' '.join(i))\n",
    "final_processed_docs[:5]"
   ]
  },
  {
   "cell_type": "markdown",
   "metadata": {},
   "source": [
    "# Train-Test Split"
   ]
  },
  {
   "cell_type": "code",
   "execution_count": 28,
   "metadata": {},
   "outputs": [
    {
     "data": {
      "text/html": [
       "<div>\n",
       "<style scoped>\n",
       "    .dataframe tbody tr th:only-of-type {\n",
       "        vertical-align: middle;\n",
       "    }\n",
       "\n",
       "    .dataframe tbody tr th {\n",
       "        vertical-align: top;\n",
       "    }\n",
       "\n",
       "    .dataframe thead th {\n",
       "        text-align: right;\n",
       "    }\n",
       "</style>\n",
       "<table border=\"1\" class=\"dataframe\">\n",
       "  <thead>\n",
       "    <tr style=\"text-align: right;\">\n",
       "      <th></th>\n",
       "      <th>Title</th>\n",
       "      <th>Text</th>\n",
       "      <th>Target</th>\n",
       "    </tr>\n",
       "  </thead>\n",
       "  <tbody>\n",
       "    <tr>\n",
       "      <td>0</td>\n",
       "      <td>Practical Machine Learning Tutorial with Pytho...</td>\n",
       "      <td>tutori intro</td>\n",
       "      <td>1</td>\n",
       "    </tr>\n",
       "    <tr>\n",
       "      <td>1</td>\n",
       "      <td>Regression Intro - Practical Machine Learning ...</td>\n",
       "      <td>regress intro tutori</td>\n",
       "      <td>1</td>\n",
       "    </tr>\n",
       "    <tr>\n",
       "      <td>2</td>\n",
       "      <td>Regression Features and Labels - Practical Mac...</td>\n",
       "      <td>regress featur label tutori</td>\n",
       "      <td>0</td>\n",
       "    </tr>\n",
       "    <tr>\n",
       "      <td>3</td>\n",
       "      <td>Regression Training and Testing - Practical Ma...</td>\n",
       "      <td>regress train test tutori</td>\n",
       "      <td>0</td>\n",
       "    </tr>\n",
       "    <tr>\n",
       "      <td>4</td>\n",
       "      <td>Regression forecasting and predicting - Practi...</td>\n",
       "      <td>regress forecast predict tutori</td>\n",
       "      <td>0</td>\n",
       "    </tr>\n",
       "  </tbody>\n",
       "</table>\n",
       "</div>"
      ],
      "text/plain": [
       "                                               Title  \\\n",
       "0  Practical Machine Learning Tutorial with Pytho...   \n",
       "1  Regression Intro - Practical Machine Learning ...   \n",
       "2  Regression Features and Labels - Practical Mac...   \n",
       "3  Regression Training and Testing - Practical Ma...   \n",
       "4  Regression forecasting and predicting - Practi...   \n",
       "\n",
       "                              Text  Target  \n",
       "0                     tutori intro       1  \n",
       "1             regress intro tutori       1  \n",
       "2      regress featur label tutori       0  \n",
       "3        regress train test tutori       0  \n",
       "4  regress forecast predict tutori       0  "
      ]
     },
     "execution_count": 28,
     "metadata": {},
     "output_type": "execute_result"
    }
   ],
   "source": [
    "df = pd.DataFrame({'Title':sum1.Title,'Text':final_processed_docs, 'Target':sum1.Target})\n",
    "df.head()"
   ]
  },
  {
   "cell_type": "code",
   "execution_count": 29,
   "metadata": {},
   "outputs": [],
   "source": [
    "from sklearn.model_selection import train_test_split\n",
    "X = df.Text\n",
    "y = df.Target\n",
    "X_train, X_test, y_train, y_test = train_test_split(X, y, stratify = y, random_state = 0, test_size = 0.3)"
   ]
  },
  {
   "cell_type": "code",
   "execution_count": 30,
   "metadata": {},
   "outputs": [
    {
     "data": {
      "text/plain": [
       "TfidfVectorizer(analyzer='word', binary=False, decode_error='strict',\n",
       "                dtype=<class 'numpy.float64'>, encoding='utf-8',\n",
       "                input='content', lowercase=True, max_df=1.0, max_features=None,\n",
       "                min_df=1, ngram_range=(1, 1), norm='l2', preprocessor=None,\n",
       "                smooth_idf=True, stop_words=None, strip_accents=None,\n",
       "                sublinear_tf=False, token_pattern='(?u)\\\\b\\\\w\\\\w+\\\\b',\n",
       "                tokenizer=None, use_idf=True, vocabulary=None)"
      ]
     },
     "execution_count": 30,
     "metadata": {},
     "output_type": "execute_result"
    }
   ],
   "source": [
    "from sklearn.feature_extraction.text import TfidfVectorizer\n",
    "tfidfVec = TfidfVectorizer()\n",
    "tfidfVec.fit(X_train)"
   ]
  },
  {
   "cell_type": "code",
   "execution_count": 31,
   "metadata": {},
   "outputs": [],
   "source": [
    "X_train = tfidfVec.transform(X_train)\n",
    "X_test = tfidfVec.transform(X_test)"
   ]
  },
  {
   "cell_type": "markdown",
   "metadata": {},
   "source": [
    "# Logistic Regression Classifier"
   ]
  },
  {
   "cell_type": "code",
   "execution_count": 34,
   "metadata": {},
   "outputs": [
    {
     "name": "stdout",
     "output_type": "stream",
     "text": [
      "y_pred = [0, 0, 1, 0, 0, 0, 0, 0, 1, 1, 0, 0, 1, 1, 0, 1, 0, 1, 1, 1, 1, 0]\n",
      "\n",
      "y_test = [0, 1, 0, 0, 0, 1, 0, 1, 1, 1, 0, 0, 1, 1, 0, 0, 1, 1, 1, 0, 1, 0]\n",
      "\n",
      "AUC Score : 0.68\n",
      "\n",
      "              precision    recall  f1-score   support\n",
      "\n",
      "           0       0.67      0.73      0.70        11\n",
      "           1       0.70      0.64      0.67        11\n",
      "\n",
      "    accuracy                           0.68        22\n",
      "   macro avg       0.68      0.68      0.68        22\n",
      "weighted avg       0.68      0.68      0.68        22\n",
      "\n"
     ]
    },
    {
     "name": "stderr",
     "output_type": "stream",
     "text": [
      "C:\\Users\\nayak\\AppData\\Roaming\\Python\\Python36\\site-packages\\sklearn\\linear_model\\logistic.py:432: FutureWarning: Default solver will be changed to 'lbfgs' in 0.22. Specify a solver to silence this warning.\n",
      "  FutureWarning)\n"
     ]
    }
   ],
   "source": [
    "from sklearn.linear_model import LogisticRegression\n",
    "from sklearn.metrics import roc_auc_score, classification_report, roc_curve\n",
    "# solver = 'saga', penalty='elasticnet', l1_ratio=0.1\n",
    "clfr = LogisticRegression(C = 100)\n",
    "\n",
    "clfr.fit(X_train, y_train)\n",
    "y_pred = clfr.predict(X_test)\n",
    "print(\"y_pred = {}\\n\".format(list(y_pred)))\n",
    "print(\"y_test = {}\".format(list(y_test)))\n",
    "print(\"\\nAUC Score : {:.2f}\\n\".format(roc_auc_score(y_test, y_pred)))\n",
    "print(classification_report(y_test, y_pred))\n",
    "fpr, tpr, threshold = roc_curve(y_test, clfr.predict_proba(X_test)[:,1])\n",
    "AUC_Curve_df = pd.DataFrame({\"FPR\":fpr, \"TPR\":tpr, \"Threshold\":threshold})"
   ]
  },
  {
   "cell_type": "code",
   "execution_count": 37,
   "metadata": {},
   "outputs": [
    {
     "data": {
      "image/png": "[encoded data removed]",
      "text/plain": [
       "<Figure size 504x216 with 1 Axes>"
      ]
     },
     "metadata": {
      "needs_background": "light"
     },
     "output_type": "display_data"
    }
   ],
   "source": [
    "rcParams['figure.figsize'] = 7, 3\n",
    "sns.lineplot(x = \"FPR\", y = \"TPR\", data = AUC_Curve_df, ci = False)\n",
    "plt.show()"
   ]
  },
  {
   "cell_type": "markdown",
   "metadata": {},
   "source": [
    "# Multinomial Naive Bayes"
   ]
  },
  {
   "cell_type": "code",
   "execution_count": 38,
   "metadata": {},
   "outputs": [
    {
     "name": "stdout",
     "output_type": "stream",
     "text": [
      "y_pred = [0, 1, 1, 0, 1, 0, 0, 0, 1, 1, 0, 0, 1, 0, 0, 1, 0, 1, 1, 1, 1, 0]\n",
      "\n",
      "y_test = [0, 1, 0, 0, 0, 1, 0, 1, 1, 1, 0, 0, 1, 1, 0, 0, 1, 1, 1, 0, 1, 0]\n",
      "\n",
      "AUC Score: 0.64\n",
      "\n",
      "              precision    recall  f1-score   support\n",
      "\n",
      "           0       0.64      0.64      0.64        11\n",
      "           1       0.64      0.64      0.64        11\n",
      "\n",
      "    accuracy                           0.64        22\n",
      "   macro avg       0.64      0.64      0.64        22\n",
      "weighted avg       0.64      0.64      0.64        22\n",
      "\n"
     ]
    }
   ],
   "source": [
    "from sklearn.naive_bayes import MultinomialNB\n",
    "\n",
    "NB = MultinomialNB()\n",
    "NB.fit(X_train, y_train)\n",
    "y_pred = NB.predict(X_test)\n",
    "print(\"y_pred = {}\\n\".format(list(y_pred)))\n",
    "print(\"y_test = {}\\n\".format(list(y_test)))\n",
    "\n",
    "print(\"AUC Score: {:.2f}\\n\".format(roc_auc_score(y_pred, y_test)))\n",
    "print(classification_report(y_pred, y_test))"
   ]
  },
  {
   "cell_type": "code",
   "execution_count": null,
   "metadata": {},
   "outputs": [],
   "source": []
  }
 ],
 "metadata": {
  "kernelspec": {
   "display_name": "Python 3",
   "language": "python",
   "name": "python3"
  },
  "language_info": {
   "codemirror_mode": {
    "name": "ipython",
    "version": 3
   },
   "file_extension": ".py",
   "mimetype": "text/x-python",
   "name": "python",
   "nbconvert_exporter": "python",
   "pygments_lexer": "ipython3",
   "version": "3.6.8"
  },
  "latex_envs": {
   "LaTeX_envs_menu_present": true,
   "autoclose": false,
   "autocomplete": true,
   "bibliofile": "biblio.bib",
   "cite_by": "apalike",
   "current_citInitial": 1,
   "eqLabelWithNumbers": true,
   "eqNumInitial": 1,
   "hotkeys": {
    "equation": "Ctrl-E",
    "itemize": "Ctrl-I"
   },
   "labels_anchors": false,
   "latex_user_defs": false,
   "report_style_numbering": false,
   "user_envs_cfg": false
  },
  "toc": {
   "base_numbering": 1,
   "nav_menu": {},
   "number_sections": true,
   "sideBar": true,
   "skip_h1_title": false,
   "title_cell": "Table of Contents",
   "title_sidebar": "Contents",
   "toc_cell": false,
   "toc_position": {},
   "toc_section_display": true,
   "toc_window_display": false
  }
 },
 "nbformat": 4,
 "nbformat_minor": 2
}
